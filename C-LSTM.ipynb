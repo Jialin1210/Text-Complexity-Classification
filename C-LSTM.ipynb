{
 "cells": [
  {
   "cell_type": "code",
   "execution_count": 1,
   "metadata": {},
   "outputs": [],
   "source": [
    "import pandas as pd\n",
    "import numpy as np"
   ]
  },
  {
   "cell_type": "code",
   "execution_count": 2,
   "metadata": {
    "scrolled": true
   },
   "outputs": [
    {
     "name": "stderr",
     "output_type": "stream",
     "text": [
      "[nltk_data] Downloading package stopwords to\n",
      "[nltk_data]     /Users/Jialin/nltk_data...\n",
      "[nltk_data]   Package stopwords is already up-to-date!\n",
      "[nltk_data] Downloading package wordnet to /Users/Jialin/nltk_data...\n",
      "[nltk_data]   Package wordnet is already up-to-date!\n"
     ]
    },
    {
     "data": {
      "text/plain": [
       "True"
      ]
     },
     "execution_count": 2,
     "metadata": {},
     "output_type": "execute_result"
    }
   ],
   "source": [
    "import nltk\n",
    "from nltk.corpus import stopwords\n",
    "from nltk.stem import WordNetLemmatizer\n",
    "nltk.download('stopwords')\n",
    "nltk.download('wordnet')"
   ]
  },
  {
   "cell_type": "code",
   "execution_count": 321,
   "metadata": {},
   "outputs": [],
   "source": [
    "import matplotlib.pyplot as plt\n",
    "from sklearn.model_selection import train_test_split\n",
    "from sklearn.metrics import accuracy_score\n",
    "from sklearn.metrics import confusion_matrix\n",
    "from sklearn.metrics import classification_report\n",
    "from sklearn.metrics import roc_curve, auc"
   ]
  },
  {
   "cell_type": "code",
   "execution_count": 246,
   "metadata": {},
   "outputs": [],
   "source": [
    "from keras.preprocessing.text import one_hot\n",
    "from keras.preprocessing.text import Tokenizer\n",
    "from keras.preprocessing.sequence import pad_sequences\n",
    "from keras.models import Sequential\n",
    "from keras.layers.core import Activation, Dropout, Dense, Dropout\n",
    "from keras.layers import Flatten, Conv1D, LSTM, MaxPooling1D, SpatialDropout1D, GlobalMaxPooling1D\n",
    "from keras.layers.embeddings import Embedding\n",
    "from keras.callbacks import EarlyStopping\n",
    "from keras.regularizers import l2\n",
    "from sklearn.metrics import confusion_matrix\n",
    "from sklearn.metrics import classification_report\n",
    "from sklearn.metrics import roc_curve, auc"
   ]
  },
  {
   "cell_type": "code",
   "execution_count": 5,
   "metadata": {},
   "outputs": [],
   "source": [
    "df = pd.read_csv(\"dataset.csv\", encoding = 'utf-8')"
   ]
  },
  {
   "cell_type": "code",
   "execution_count": 8,
   "metadata": {},
   "outputs": [
    {
     "data": {
      "text/plain": [
       "7395"
      ]
     },
     "execution_count": 8,
     "metadata": {},
     "output_type": "execute_result"
    }
   ],
   "source": [
    "len(df)"
   ]
  },
  {
   "cell_type": "code",
   "execution_count": 13,
   "metadata": {
    "scrolled": true
   },
   "outputs": [
    {
     "data": {
      "text/html": [
       "<div>\n",
       "<style scoped>\n",
       "    .dataframe tbody tr th:only-of-type {\n",
       "        vertical-align: middle;\n",
       "    }\n",
       "\n",
       "    .dataframe tbody tr th {\n",
       "        vertical-align: top;\n",
       "    }\n",
       "\n",
       "    .dataframe thead th {\n",
       "        text-align: right;\n",
       "    }\n",
       "</style>\n",
       "<table border=\"1\" class=\"dataframe\">\n",
       "  <thead>\n",
       "    <tr style=\"text-align: right;\">\n",
       "      <th></th>\n",
       "      <th>text</th>\n",
       "      <th>cat</th>\n",
       "      <th>topic</th>\n",
       "      <th>cluster</th>\n",
       "    </tr>\n",
       "  </thead>\n",
       "  <tbody>\n",
       "    <tr>\n",
       "      <td>0</td>\n",
       "      <td>SeaWorld’s profits fell by 84% and customers a...</td>\n",
       "      <td>ele</td>\n",
       "      <td>SeaWorld</td>\n",
       "      <td>2.0</td>\n",
       "    </tr>\n",
       "    <tr>\n",
       "      <td>1</td>\n",
       "      <td>The company teaches dolphins and killer whales...</td>\n",
       "      <td>ele</td>\n",
       "      <td>SeaWorld</td>\n",
       "      <td>2.0</td>\n",
       "    </tr>\n",
       "    <tr>\n",
       "      <td>2</td>\n",
       "      <td>It says fewer people are going to its parks an...</td>\n",
       "      <td>ele</td>\n",
       "      <td>SeaWorld</td>\n",
       "      <td>2.0</td>\n",
       "    </tr>\n",
       "    <tr>\n",
       "      <td>3</td>\n",
       "      <td>SeaWorld has been in the news since the 2013 d...</td>\n",
       "      <td>ele</td>\n",
       "      <td>SeaWorld</td>\n",
       "      <td>2.0</td>\n",
       "    </tr>\n",
       "    <tr>\n",
       "      <td>4</td>\n",
       "      <td>Animal rights organizations say that orcas kep...</td>\n",
       "      <td>ele</td>\n",
       "      <td>SeaWorld</td>\n",
       "      <td>2.0</td>\n",
       "    </tr>\n",
       "  </tbody>\n",
       "</table>\n",
       "</div>"
      ],
      "text/plain": [
       "                                                text  cat     topic  cluster\n",
       "0  SeaWorld’s profits fell by 84% and customers a...  ele  SeaWorld      2.0\n",
       "1  The company teaches dolphins and killer whales...  ele  SeaWorld      2.0\n",
       "2  It says fewer people are going to its parks an...  ele  SeaWorld      2.0\n",
       "3  SeaWorld has been in the news since the 2013 d...  ele  SeaWorld      2.0\n",
       "4  Animal rights organizations say that orcas kep...  ele  SeaWorld      2.0"
      ]
     },
     "execution_count": 13,
     "metadata": {},
     "output_type": "execute_result"
    }
   ],
   "source": [
    "df.head()"
   ]
  },
  {
   "cell_type": "code",
   "execution_count": 69,
   "metadata": {},
   "outputs": [],
   "source": [
    "# convert cat to numeric levels\n",
    "# 0: ele, 1: int, 2: adv\n",
    "level = []\n",
    "for c in df.cat:\n",
    "    if c == 'ele':\n",
    "        level.append(0)\n",
    "    elif c == 'int':\n",
    "        level.append(1)\n",
    "    elif c == 'adv':\n",
    "        level.append(2)\n",
    "\n",
    "df['level'] = level"
   ]
  },
  {
   "cell_type": "code",
   "execution_count": 111,
   "metadata": {},
   "outputs": [
    {
     "data": {
      "text/html": [
       "<div>\n",
       "<style scoped>\n",
       "    .dataframe tbody tr th:only-of-type {\n",
       "        vertical-align: middle;\n",
       "    }\n",
       "\n",
       "    .dataframe tbody tr th {\n",
       "        vertical-align: top;\n",
       "    }\n",
       "\n",
       "    .dataframe thead th {\n",
       "        text-align: right;\n",
       "    }\n",
       "</style>\n",
       "<table border=\"1\" class=\"dataframe\">\n",
       "  <thead>\n",
       "    <tr style=\"text-align: right;\">\n",
       "      <th></th>\n",
       "      <th>text</th>\n",
       "      <th>cat</th>\n",
       "      <th>topic</th>\n",
       "      <th>cluster</th>\n",
       "      <th>level</th>\n",
       "    </tr>\n",
       "  </thead>\n",
       "  <tbody>\n",
       "    <tr>\n",
       "      <td>0</td>\n",
       "      <td>SeaWorld’s profits fell by 84% and customers a...</td>\n",
       "      <td>ele</td>\n",
       "      <td>SeaWorld</td>\n",
       "      <td>2.0</td>\n",
       "      <td>0</td>\n",
       "    </tr>\n",
       "    <tr>\n",
       "      <td>1</td>\n",
       "      <td>The company teaches dolphins and killer whales...</td>\n",
       "      <td>ele</td>\n",
       "      <td>SeaWorld</td>\n",
       "      <td>2.0</td>\n",
       "      <td>0</td>\n",
       "    </tr>\n",
       "    <tr>\n",
       "      <td>2</td>\n",
       "      <td>It says fewer people are going to its parks an...</td>\n",
       "      <td>ele</td>\n",
       "      <td>SeaWorld</td>\n",
       "      <td>2.0</td>\n",
       "      <td>0</td>\n",
       "    </tr>\n",
       "    <tr>\n",
       "      <td>3</td>\n",
       "      <td>SeaWorld has been in the news since the 2013 d...</td>\n",
       "      <td>ele</td>\n",
       "      <td>SeaWorld</td>\n",
       "      <td>2.0</td>\n",
       "      <td>0</td>\n",
       "    </tr>\n",
       "    <tr>\n",
       "      <td>4</td>\n",
       "      <td>Animal rights organizations say that orcas kep...</td>\n",
       "      <td>ele</td>\n",
       "      <td>SeaWorld</td>\n",
       "      <td>2.0</td>\n",
       "      <td>0</td>\n",
       "    </tr>\n",
       "  </tbody>\n",
       "</table>\n",
       "</div>"
      ],
      "text/plain": [
       "                                                text  cat     topic  cluster  \\\n",
       "0  SeaWorld’s profits fell by 84% and customers a...  ele  SeaWorld      2.0   \n",
       "1  The company teaches dolphins and killer whales...  ele  SeaWorld      2.0   \n",
       "2  It says fewer people are going to its parks an...  ele  SeaWorld      2.0   \n",
       "3  SeaWorld has been in the news since the 2013 d...  ele  SeaWorld      2.0   \n",
       "4  Animal rights organizations say that orcas kep...  ele  SeaWorld      2.0   \n",
       "\n",
       "   level  \n",
       "0      0  \n",
       "1      0  \n",
       "2      0  \n",
       "3      0  \n",
       "4      0  "
      ]
     },
     "execution_count": 111,
     "metadata": {},
     "output_type": "execute_result"
    }
   ],
   "source": [
    "df.head()"
   ]
  },
  {
   "cell_type": "markdown",
   "metadata": {},
   "source": [
    "### Text Cleaning"
   ]
  },
  {
   "cell_type": "code",
   "execution_count": 323,
   "metadata": {},
   "outputs": [],
   "source": [
    "#Cleaning the text\n",
    "import string\n",
    "def text_process(text):\n",
    "    '''\n",
    "    Takes in a string of text, then performs the following:\n",
    "    1. Remove all punctuation\n",
    "    2. Remove all stopwords\n",
    "    3. Return the cleaned text as a list of words\n",
    "    4. Remove words\n",
    "    '''\n",
    "    stemmer = WordNetLemmatizer()\n",
    "    nopunc = [char for char in text if char not in string.punctuation]\n",
    "    nopunc = ''.join([i for i in nopunc if not i.isdigit()])\n",
    "    nopunc =  [word.lower() for word in nopunc.split()]\n",
    "    return ' '.join([stemmer.lemmatize(word) for word in nopunc])"
   ]
  },
  {
   "cell_type": "code",
   "execution_count": 326,
   "metadata": {
    "scrolled": true
   },
   "outputs": [
    {
     "name": "stderr",
     "output_type": "stream",
     "text": [
      "/Users/Jialin/opt/anaconda3/lib/python3.7/site-packages/ipykernel_launcher.py:1: SettingWithCopyWarning: \n",
      "A value is trying to be set on a copy of a slice from a DataFrame.\n",
      "Try using .loc[row_indexer,col_indexer] = value instead\n",
      "\n",
      "See the caveats in the documentation: http://pandas.pydata.org/pandas-docs/stable/user_guide/indexing.html#returning-a-view-versus-a-copy\n",
      "  \"\"\"Entry point for launching an IPython kernel.\n",
      "/Users/Jialin/opt/anaconda3/lib/python3.7/site-packages/ipykernel_launcher.py:2: SettingWithCopyWarning: \n",
      "A value is trying to be set on a copy of a slice from a DataFrame.\n",
      "Try using .loc[row_indexer,col_indexer] = value instead\n",
      "\n",
      "See the caveats in the documentation: http://pandas.pydata.org/pandas-docs/stable/user_guide/indexing.html#returning-a-view-versus-a-copy\n",
      "  \n",
      "/Users/Jialin/opt/anaconda3/lib/python3.7/site-packages/ipykernel_launcher.py:3: SettingWithCopyWarning: \n",
      "A value is trying to be set on a copy of a slice from a DataFrame.\n",
      "Try using .loc[row_indexer,col_indexer] = value instead\n",
      "\n",
      "See the caveats in the documentation: http://pandas.pydata.org/pandas-docs/stable/user_guide/indexing.html#returning-a-view-versus-a-copy\n",
      "  This is separate from the ipykernel package so we can avoid doing imports until\n"
     ]
    }
   ],
   "source": [
    "cluster_df0['text'] = cluster_df0['text'].map(lambda com : text_process(com))\n",
    "cluster_df1['text'] = cluster_df1['text'].map(lambda com : text_process(com))\n",
    "cluster_df2['text'] = cluster_df2['text'].map(lambda com : text_process(com))"
   ]
  },
  {
   "cell_type": "code",
   "execution_count": 306,
   "metadata": {},
   "outputs": [],
   "source": [
    "# cluster_df0.to_csv('cluster0.csv',index=False)\n",
    "# cluster_df1.to_csv('cluster1.csv',index=False)\n",
    "# cluster_df2.to_csv('cluster2.csv',index=False)"
   ]
  },
  {
   "cell_type": "code",
   "execution_count": 143,
   "metadata": {},
   "outputs": [],
   "source": [
    "# # topic list\n",
    "# cluster_text0 = []\n",
    "# #cluster_text1 = []\n",
    "# #cluster_text2 = []\n",
    "# for t in cluster_df0.text:\n",
    "#     myt = text_process(t)\n",
    "#     if (t not in cluster_text0):\n",
    "#         cluster_text0.append(myt)"
   ]
  },
  {
   "cell_type": "markdown",
   "metadata": {},
   "source": [
    "### Train and Test Split"
   ]
  },
  {
   "cell_type": "code",
   "execution_count": 482,
   "metadata": {
    "scrolled": true
   },
   "outputs": [],
   "source": [
    "X_train, X_test, y_train, y_test = train_test_split(list(df['text']), list(df.level), test_size=0.2, random_state=45)"
   ]
  },
  {
   "cell_type": "code",
   "execution_count": 469,
   "metadata": {
    "scrolled": true
   },
   "outputs": [],
   "source": [
    "X_train, X_test, y_train, y_test = train_test_split(list(cluster_df0['text']), list(cluster_df0.level), test_size=0.2, random_state=45)"
   ]
  },
  {
   "cell_type": "code",
   "execution_count": 474,
   "metadata": {
    "scrolled": true
   },
   "outputs": [],
   "source": [
    "X_train, X_test, y_train, y_test = train_test_split(list(cluster_df1['text']), list(cluster_df1.level), test_size=0.2, random_state=45)"
   ]
  },
  {
   "cell_type": "code",
   "execution_count": 478,
   "metadata": {
    "scrolled": true
   },
   "outputs": [],
   "source": [
    "X_train, X_test, y_train, y_test = train_test_split(list(cluster_df2['text']), list(cluster_df2.level), test_size=0.2, random_state=45)"
   ]
  },
  {
   "cell_type": "markdown",
   "metadata": {},
   "source": [
    "### Tokenization"
   ]
  },
  {
   "cell_type": "code",
   "execution_count": 46,
   "metadata": {},
   "outputs": [],
   "source": [
    "#API embedding\n",
    "# tokenizer = Tokenizer(num_words=5000)\n",
    "# tokenizer.fit_on_texts(X_train)\n",
    "\n",
    "# X_train = tokenizer.texts_to_sequences(X_train)\n",
    "# X_test = tokenizer.texts_to_sequences(X_test)\n",
    "# # Adding 1 because of reserved 0 index\n",
    "# vocab_size = len(tokenizer.word_index) + 1\n",
    "\n",
    "# maxlen = 50\n",
    "\n",
    "# X_train = pad_sequences(X_train, padding='post', maxlen=maxlen)\n",
    "# X_test = pad_sequences(X_test, padding='post', maxlen=maxlen)"
   ]
  },
  {
   "cell_type": "code",
   "execution_count": 78,
   "metadata": {},
   "outputs": [],
   "source": [
    "# word embeddings\n",
    "embeddings_dictionary = dict()\n",
    "glove_file = open('/Users/Jialin/Downloads/OneStopEnglishCorpus-master/glove/glove.6B.50d.txt', encoding=\"utf8\")\n",
    "\n",
    "for line in glove_file:\n",
    "    records = line.split()\n",
    "    word = records[0]\n",
    "    vector_dimensions = np.asarray(records[1:], dtype='float32')\n",
    "    embeddings_dictionary[word] = vector_dimensions\n",
    "glove_file.close()\n",
    "\n",
    "embedding_matrix = np.zeros((vocab_size, 50))\n",
    "for word, index in tokenizer.word_index.items():\n",
    "    embedding_vector = embeddings_dictionary.get(word)\n",
    "    if embedding_vector is not None:\n",
    "        embedding_matrix[index] = embedding_vector"
   ]
  },
  {
   "cell_type": "code",
   "execution_count": 483,
   "metadata": {},
   "outputs": [],
   "source": [
    "#word embedding from document\n",
    "word_tokenizer = Tokenizer(lower=False)\n",
    "word_tokenizer.fit_on_texts(X_train)\n",
    "\n",
    "X_train = tokenizer.texts_to_sequences(X_train)\n",
    "X_test = tokenizer.texts_to_sequences(X_test)\n",
    "\n",
    "vocab_size = len(word_tokenizer.word_index) + 1\n",
    "#embedded_sentences = word_tokenizer.texts_to_sequences(X_train)\n",
    "\n",
    "X_train = pad_sequences(X_train,30, padding='post')\n",
    "X_test = pad_sequences(X_test, 30, padding='post')"
   ]
  },
  {
   "cell_type": "code",
   "execution_count": 484,
   "metadata": {},
   "outputs": [
    {
     "data": {
      "text/plain": [
       "(5916, 30)"
      ]
     },
     "execution_count": 484,
     "metadata": {},
     "output_type": "execute_result"
    }
   ],
   "source": [
    "X_train.shape"
   ]
  },
  {
   "cell_type": "code",
   "execution_count": 485,
   "metadata": {
    "scrolled": false
   },
   "outputs": [
    {
     "name": "stdout",
     "output_type": "stream",
     "text": [
      "Model: \"sequential_122\"\n",
      "_________________________________________________________________\n",
      "Layer (type)                 Output Shape              Param #   \n",
      "=================================================================\n",
      "embedding_106 (Embedding)    (None, 30, 200)           3756000   \n",
      "_________________________________________________________________\n",
      "conv1d_41 (Conv1D)           (None, 26, 64)            64064     \n",
      "_________________________________________________________________\n",
      "max_pooling1d_66 (MaxPooling (None, 6, 64)             0         \n",
      "_________________________________________________________________\n",
      "lstm_97 (LSTM)               (None, 128)               98816     \n",
      "_________________________________________________________________\n",
      "dense_153 (Dense)            (None, 1)                 129       \n",
      "=================================================================\n",
      "Total params: 3,919,009\n",
      "Trainable params: 3,919,009\n",
      "Non-trainable params: 0\n",
      "_________________________________________________________________\n",
      "Train on 4732 samples, validate on 1184 samples\n",
      "Epoch 1/5\n",
      "4732/4732 [==============================] - 10s 2ms/step - loss: -0.8059 - acc: 0.3468 - f1_m: 0.8253 - precision_m: 0.7149 - recall_m: 0.9939 - val_loss: -1.7593 - val_acc: 0.3590 - val_f1_m: 0.8388 - val_precision_m: 0.7245 - val_recall_m: 1.0000\n",
      "Epoch 2/5\n",
      "4732/4732 [==============================] - 4s 885us/step - loss: -2.8538 - acc: 0.3555 - f1_m: 0.8305 - precision_m: 0.7148 - recall_m: 0.9947 - val_loss: -3.2972 - val_acc: 0.3767 - val_f1_m: 0.8539 - val_precision_m: 0.7547 - val_recall_m: 0.9878\n",
      "Epoch 3/5\n",
      "4732/4732 [==============================] - 4s 905us/step - loss: -7.1881 - acc: 0.4349 - f1_m: 0.8624 - precision_m: 0.7975 - recall_m: 0.9437 - val_loss: -4.5485 - val_acc: 0.4020 - val_f1_m: 0.8406 - val_precision_m: 0.7770 - val_recall_m: 0.9188\n",
      "Epoch 4/5\n",
      "4732/4732 [==============================] - 4s 901us/step - loss: -11.1759 - acc: 0.5082 - f1_m: 0.8956 - precision_m: 0.8754 - recall_m: 0.9189 - val_loss: -5.7374 - val_acc: 0.3995 - val_f1_m: 0.8268 - val_precision_m: 0.7816 - val_recall_m: 0.8807\n",
      "Epoch 5/5\n",
      "4732/4732 [==============================] - 4s 892us/step - loss: -14.9166 - acc: 0.5435 - f1_m: 0.9188 - precision_m: 0.9139 - recall_m: 0.9262 - val_loss: -6.8513 - val_acc: 0.4012 - val_f1_m: 0.8210 - val_precision_m: 0.7742 - val_recall_m: 0.8768\n",
      "loss -5.956049101509058 accuracy 0.39080458879470825 f1 0.7991411089897156 precision 0.7601515054702759 recall 0.8535881042480469 Test Score: -5.956049101509058 Test Accuracy: 0.39080458879470825\n"
     ]
    },
    {
     "data": {
      "image/png": "[encoded data removed]",
      "text/plain": [
       "<Figure size 432x288 with 1 Axes>"
      ]
     },
     "metadata": {
      "needs_background": "light"
     },
     "output_type": "display_data"
    },
    {
     "data": {
      "image/png": "[encoded data removed]",
      "text/plain": [
       "<Figure size 432x288 with 1 Axes>"
      ]
     },
     "metadata": {
      "needs_background": "light"
     },
     "output_type": "display_data"
    }
   ],
   "source": [
    "# LSTM + CNN\n",
    "model = Sequential()\n",
    "model.add(Embedding(vocab_size, 200, input_length=X_train.shape[1]))\n",
    "# model.add(Dropout(0.2))\n",
    "# model.add(SpatialDropout1D(0.2))\n",
    "model.add(Conv1D(64, 5, activation='relu'))\n",
    "model.add(MaxPooling1D(pool_size=4))\n",
    "# model.add(Dense(256, kernel_regularizer=l2(0.001),activation='relu', input_shape=(n_cols,)))\n",
    "# model.add(Dense(128, activation='relu'))\n",
    "# model.add(Dropout(0.2))\n",
    "model.add(LSTM(128, dropout=0.2, recurrent_dropout=0.2))\n",
    "model.add(Dense(1, activation='sigmoid'))\n",
    "model.compile(loss='binary_crossentropy', optimizer='rmsprop', metrics=['acc',f1_m,precision_m, recall_m])\n",
    "model.summary()\n",
    "# fit network\n",
    "test_model(model)"
   ]
  },
  {
   "cell_type": "code",
   "execution_count": 426,
   "metadata": {
    "scrolled": false
   },
   "outputs": [
    {
     "name": "stdout",
     "output_type": "stream",
     "text": [
      "Model: \"sequential_96\"\n",
      "_________________________________________________________________\n",
      "Layer (type)                 Output Shape              Param #   \n",
      "=================================================================\n",
      "embedding_80 (Embedding)     (None, 30, 200)           2174600   \n",
      "_________________________________________________________________\n",
      "dropout_25 (Dropout)         (None, 30, 200)           0         \n",
      "_________________________________________________________________\n",
      "max_pooling1d_40 (MaxPooling (None, 7, 200)            0         \n",
      "_________________________________________________________________\n",
      "lstm_71 (LSTM)               (None, 128)               168448    \n",
      "_________________________________________________________________\n",
      "dense_126 (Dense)            (None, 1)                 129       \n",
      "=================================================================\n",
      "Total params: 2,343,177\n",
      "Trainable params: 2,343,177\n",
      "Non-trainable params: 0\n",
      "_________________________________________________________________\n",
      "Train on 2700 samples, validate on 675 samples\n",
      "Epoch 1/6\n",
      "2700/2700 [==============================] - 6s 2ms/step - loss: -1.1388 - acc: 0.3552 - f1_m: 0.8392 - precision_m: 0.7650 - recall_m: 0.9928 - val_loss: -0.6945 - val_acc: 0.3467 - val_f1_m: 0.8165 - val_precision_m: 0.6916 - val_recall_m: 1.0000\n",
      "Epoch 2/6\n",
      "2700/2700 [==============================] - 2s 559us/step - loss: -1.7821 - acc: 0.3541 - f1_m: 0.8364 - precision_m: 0.7206 - recall_m: 1.0000 - val_loss: -0.8423 - val_acc: 0.3467 - val_f1_m: 0.8165 - val_precision_m: 0.6916 - val_recall_m: 1.0000\n",
      "Epoch 3/6\n",
      "2700/2700 [==============================] - 1s 542us/step - loss: -2.0885 - acc: 0.3541 - f1_m: 0.8353 - precision_m: 0.7190 - recall_m: 1.0000 - val_loss: -1.0288 - val_acc: 0.3467 - val_f1_m: 0.8165 - val_precision_m: 0.6916 - val_recall_m: 1.0000\n",
      "Epoch 4/6\n",
      "2700/2700 [==============================] - 1s 543us/step - loss: -3.3097 - acc: 0.3541 - f1_m: 0.8388 - precision_m: 0.7240 - recall_m: 1.0000 - val_loss: -1.6232 - val_acc: 0.3585 - val_f1_m: 0.8254 - val_precision_m: 0.7058 - val_recall_m: 0.9981\n",
      "Epoch 5/6\n",
      "2700/2700 [==============================] - 2s 566us/step - loss: -5.5515 - acc: 0.3674 - f1_m: 0.8488 - precision_m: 0.7468 - recall_m: 0.9882 - val_loss: -1.9105 - val_acc: 0.3600 - val_f1_m: 0.8226 - val_precision_m: 0.7045 - val_recall_m: 0.9923\n",
      "Epoch 6/6\n",
      "2700/2700 [==============================] - 1s 543us/step - loss: -8.5357 - acc: 0.4222 - f1_m: 0.8680 - precision_m: 0.7981 - recall_m: 0.9612 - val_loss: -2.2965 - val_acc: 0.3778 - val_f1_m: 0.8103 - val_precision_m: 0.7363 - val_recall_m: 0.9067\n"
     ]
    }
   ],
   "source": [
    "# LSTM only\n",
    "model = Sequential()\n",
    "model.add(Embedding(vocab_size, 200, input_length=X_train.shape[1]))\n",
    "model.add(Dropout(0.2))\n",
    "# model.add(SpatialDropout1D(0.2))\n",
    "# model.add(Conv1D(64, 5, activation='relu'))\n",
    "model.add(MaxPooling1D(pool_size=4))\n",
    "# model.add(Dense(256, kernel_regularizer=l2(0.001),activation='relu', input_shape=(n_cols,)))\n",
    "# model.add(Dense(128, activation='relu'))\n",
    "# model.add(Dropout(0.2))\n",
    "model.add(LSTM(128, dropout=0.2, recurrent_dropout=0.2))\n",
    "model.add(Dense(1, activation='sigmoid'))\n",
    "model.compile(loss='binary_crossentropy', optimizer='rmsprop', metrics=['acc',f1_m,precision_m, recall_m])\n",
    "model.summary()\n",
    "# fit network\n",
    "test_model(model)"
   ]
  },
  {
   "cell_type": "code",
   "execution_count": 427,
   "metadata": {},
   "outputs": [],
   "source": [
    "import time\n",
    "from sklearn import svm\n",
    "from sklearn.metrics import classification_report\n",
    "from sklearn.feature_extraction.text import TfidfVectorizer\n",
    "\n",
    "def SVM(df):\n",
    "    train, test = train_test_split(df, test_size=0.20, shuffle=True)\n",
    "    X_train = train.text\n",
    "    X_test = test.text\n",
    "\n",
    "    # Create feature vectors\n",
    "    vectorizer = TfidfVectorizer(min_df = 5,\n",
    "                                 max_df = 0.8,\n",
    "                                 sublinear_tf = True,\n",
    "                                 use_idf = True)\n",
    "    train_vectors = vectorizer.fit_transform(train['text'])\n",
    "    test_vectors = vectorizer.transform(test['text'])\n",
    "\n",
    "    # Perform classification with SVM, kernel=linear\n",
    "    classifier_linear = svm.SVC(kernel='linear')\n",
    "    t0 = time.time()\n",
    "    classifier_linear.fit(train_vectors, train['level'])\n",
    "    t1 = time.time()\n",
    "    prediction_linear = classifier_linear.predict(test_vectors)\n",
    "    t2 = time.time()\n",
    "    time_linear_train = t1-t0\n",
    "    time_linear_predict = t2-t1\n",
    "    # results\n",
    "    print(\"Training time: %fs; Prediction time: %fs\" % (time_linear_train, time_linear_predict))\n",
    "    # report = classification_report(test['food_pos'], prediction_linear, output_dict=True)\n",
    "    print(classification_report(test['level'], prediction_linear))"
   ]
  },
  {
   "cell_type": "code",
   "execution_count": 428,
   "metadata": {},
   "outputs": [
    {
     "name": "stdout",
     "output_type": "stream",
     "text": [
      "Training time: 2.247839s; Prediction time: 0.445218s\n",
      "              precision    recall  f1-score   support\n",
      "\n",
      "           0       0.41      0.33      0.37       251\n",
      "           1       0.33      0.34      0.34       283\n",
      "           2       0.38      0.42      0.40       310\n",
      "\n",
      "    accuracy                           0.37       844\n",
      "   macro avg       0.37      0.37      0.37       844\n",
      "weighted avg       0.37      0.37      0.37       844\n",
      "\n",
      "Training time: 0.227201s; Prediction time: 0.041394s\n",
      "              precision    recall  f1-score   support\n",
      "\n",
      "           0       0.33      0.21      0.26        71\n",
      "           1       0.15      0.19      0.17        85\n",
      "           2       0.21      0.23      0.22        96\n",
      "\n",
      "    accuracy                           0.21       252\n",
      "   macro avg       0.23      0.21      0.22       252\n",
      "weighted avg       0.23      0.21      0.21       252\n",
      "\n",
      "Training time: 0.549699s; Prediction time: 0.092322s\n",
      "              precision    recall  f1-score   support\n",
      "\n",
      "           0       0.38      0.21      0.27       115\n",
      "           1       0.26      0.35      0.30       135\n",
      "           2       0.28      0.29      0.28       134\n",
      "\n",
      "    accuracy                           0.29       384\n",
      "   macro avg       0.30      0.28      0.28       384\n",
      "weighted avg       0.30      0.29      0.28       384\n",
      "\n"
     ]
    }
   ],
   "source": [
    "SVM(cluster_df0)\n",
    "SVM(cluster_df1)\n",
    "SVM(cluster_df2)"
   ]
  },
  {
   "cell_type": "code",
   "execution_count": 92,
   "metadata": {},
   "outputs": [
    {
     "name": "stdout",
     "output_type": "stream",
     "text": [
      "Model: \"sequential_15\"\n",
      "_________________________________________________________________\n",
      "Layer (type)                 Output Shape              Param #   \n",
      "=================================================================\n",
      "embedding_15 (Embedding)     (None, 30, 200)           3155400   \n",
      "_________________________________________________________________\n",
      "conv1d_4 (Conv1D)            (None, 23, 32)            51232     \n",
      "_________________________________________________________________\n",
      "flatten_1 (Flatten)          (None, 736)               0         \n",
      "_________________________________________________________________\n",
      "dense_11 (Dense)             (None, 1)                 737       \n",
      "=================================================================\n",
      "Total params: 3,207,369\n",
      "Trainable params: 3,207,369\n",
      "Non-trainable params: 0\n",
      "_________________________________________________________________\n",
      "None\n",
      "Train on 4732 samples, validate on 1184 samples\n",
      "Epoch 1/6\n",
      "4732/4732 [==============================] - 2s 511us/step - loss: -0.0020 - acc: 0.3462 - f1_m: 0.8245 - precision_m: 0.7052 - recall_m: 0.9970 - val_loss: -1.2118 - val_acc: 0.3590 - val_f1_m: 0.8388 - val_precision_m: 0.7245 - val_recall_m: 1.0000\n",
      "Epoch 2/6\n",
      "4732/4732 [==============================] - 2s 383us/step - loss: -17.7534 - acc: 0.3481 - f1_m: 0.8258 - precision_m: 0.7050 - recall_m: 1.0000 - val_loss: -48.2742 - val_acc: 0.3590 - val_f1_m: 0.8388 - val_precision_m: 0.7245 - val_recall_m: 1.0000\n",
      "Epoch 3/6\n",
      "4732/4732 [==============================] - 2s 384us/step - loss: -295.3701 - acc: 0.3481 - f1_m: 0.8255 - precision_m: 0.7050 - recall_m: 1.0000 - val_loss: -394.8157 - val_acc: 0.3590 - val_f1_m: 0.8388 - val_precision_m: 0.7245 - val_recall_m: 1.0000\n",
      "Epoch 4/6\n",
      "4732/4732 [==============================] - 2s 379us/step - loss: -1392.4790 - acc: 0.3481 - f1_m: 0.8261 - precision_m: 0.7050 - recall_m: 1.0000 - val_loss: -1414.0718 - val_acc: 0.3590 - val_f1_m: 0.8388 - val_precision_m: 0.7245 - val_recall_m: 1.0000\n",
      "Epoch 5/6\n",
      "4732/4732 [==============================] - 2s 411us/step - loss: -3916.3065 - acc: 0.3481 - f1_m: 0.8255 - precision_m: 0.7050 - recall_m: 1.0000 - val_loss: -3311.1721 - val_acc: 0.3590 - val_f1_m: 0.8388 - val_precision_m: 0.7245 - val_recall_m: 1.0000\n",
      "Epoch 6/6\n",
      "4732/4732 [==============================] - 2s 415us/step - loss: -8286.2454 - acc: 0.3481 - f1_m: 0.8260 - precision_m: 0.7050 - recall_m: 1.0000 - val_loss: -6206.3588 - val_acc: 0.3590 - val_f1_m: 0.8388 - val_precision_m: 0.7245 - val_recall_m: 1.0000\n",
      "loss -5554.228834542977 accuracy 0.3536173105239868 f1 0.8266596794128418 precision 0.7089666128158569 recall 1.0 Test Score: -5554.228834542977 Test Accuracy: 0.3536173105239868\n"
     ]
    },
    {
     "data": {
      "image/png": "[encoded data removed]",
      "text/plain": [
       "<Figure size 432x288 with 1 Axes>"
      ]
     },
     "metadata": {
      "needs_background": "light"
     },
     "output_type": "display_data"
    },
    {
     "data": {
      "image/png": "[encoded data removed]",
      "text/plain": [
       "<Figure size 432x288 with 1 Axes>"
      ]
     },
     "metadata": {
      "needs_background": "light"
     },
     "output_type": "display_data"
    }
   ],
   "source": [
    "# CNN\n",
    "model = Sequential()\n",
    "model.add(Embedding(vocab_size, 200, input_length=30))\n",
    "model.add(Conv1D(filters=32, kernel_size=8, activation='relu'))\n",
    "# model.add(MaxPooling1D(pool_size=2))\n",
    "# model.add(Dense(256, activation='relu', input_shape=(n_cols,)))\n",
    "# model.add(Dense(128, activation='relu'))\n",
    "# model.add(Dropout(0.2))\n",
    "\n",
    "# model.add(Dense(10, activation='relu'))\n",
    "model.add(Flatten())\n",
    "model.add(Dense(1, activation='sigmoid'))\n",
    "\n",
    "model.compile(loss='binary_crossentropy', optimizer='adam', metrics=['acc',f1_m,precision_m, recall_m])\n",
    "print(model.summary())\n",
    "# fit network\n",
    "test_model(model)"
   ]
  },
  {
   "cell_type": "code",
   "execution_count": 261,
   "metadata": {},
   "outputs": [
    {
     "name": "stdout",
     "output_type": "stream",
     "text": [
      "Training time: 2.411561s; Prediction time: 0.442625s\n",
      "              precision    recall  f1-score   support\n",
      "\n",
      "           0       0.41      0.39      0.40       225\n",
      "           1       0.37      0.32      0.34       313\n",
      "           2       0.39      0.46      0.42       306\n",
      "\n",
      "    accuracy                           0.39       844\n",
      "   macro avg       0.39      0.39      0.39       844\n",
      "weighted avg       0.39      0.39      0.39       844\n",
      "\n"
     ]
    }
   ],
   "source": [
    "import time\n",
    "from sklearn import svm\n",
    "from sklearn.metrics import classification_report\n",
    "from sklearn.feature_extraction.text import TfidfVectorizer\n",
    "\n",
    "train, test = train_test_split(cluster_df0, test_size=0.20, shuffle=True)\n",
    "X_train = train.text\n",
    "X_test = test.text\n",
    "\n",
    "# Create feature vectors\n",
    "vectorizer = TfidfVectorizer(min_df = 5,\n",
    "                             max_df = 0.8,\n",
    "                             sublinear_tf = True,\n",
    "                             use_idf = True)\n",
    "train_vectors = vectorizer.fit_transform(train['text'])\n",
    "test_vectors = vectorizer.transform(test['text'])\n",
    "\n",
    "# Perform classification with SVM, kernel=linear\n",
    "classifier_linear = svm.SVC(kernel='linear')\n",
    "t0 = time.time()\n",
    "classifier_linear.fit(train_vectors, train['level'])\n",
    "t1 = time.time()\n",
    "prediction_linear = classifier_linear.predict(test_vectors)\n",
    "t2 = time.time()\n",
    "time_linear_train = t1-t0\n",
    "time_linear_predict = t2-t1\n",
    "# results\n",
    "print(\"Training time: %fs; Prediction time: %fs\" % (time_linear_train, time_linear_predict))\n",
    "# report = classification_report(test['food_pos'], prediction_linear, output_dict=True)\n",
    "print(classification_report(test['level'], prediction_linear))"
   ]
  },
  {
   "cell_type": "code",
   "execution_count": 448,
   "metadata": {},
   "outputs": [],
   "source": [
    "from keras import backend as K\n",
    "\n",
    "def recall_m(y_true, y_pred):\n",
    "        true_positives = K.sum(K.round(K.clip(y_true * y_pred, 0, 1)))\n",
    "        possible_positives = K.sum(K.round(K.clip(y_true, 0, 1)))\n",
    "        recall = true_positives / (possible_positives + K.epsilon())\n",
    "        return recall\n",
    "\n",
    "def precision_m(y_true, y_pred):\n",
    "        true_positives = K.sum(K.round(K.clip(y_true * y_pred, 0, 1)))\n",
    "        predicted_positives = K.sum(K.round(K.clip(y_pred, 0, 1)))\n",
    "        precision = true_positives / (predicted_positives + K.epsilon())\n",
    "        return precision\n",
    "\n",
    "def f1_m(y_true, y_pred):\n",
    "    precision = precision_m(y_true, y_pred)\n",
    "    recall = recall_m(y_true, y_pred)\n",
    "    return 2*((precision*recall)/(precision+recall+K.epsilon()))\n",
    "\n",
    "def test_model(model):\n",
    "    history = model.fit(X_train, y_train, \n",
    "                        batch_size=64, \n",
    "                        epochs=5, \n",
    "                        verbose=1, \n",
    "                        validation_split=0.2,\n",
    "                        callbacks=[EarlyStopping(monitor='val_loss', patience=3, min_delta=0.0001)])\n",
    "    score = model.evaluate(X_test, y_test, verbose=0)\n",
    "    \n",
    "    #loss, accuracy, f1_score, precision, recall\n",
    "    print(\"loss {} accuracy {} f1 {} precision {} recall {}\".format(*score), \"Test Score:\", score[0], \"Test Accuracy:\", score[1])\n",
    "\n",
    "    plt.plot(history.history['acc'])\n",
    "    plt.plot(history.history['val_acc'])\n",
    "\n",
    "    plt.title('model accuracy')\n",
    "    plt.ylabel('accuracy')\n",
    "    plt.xlabel('epoch')\n",
    "    plt.legend(['train','test'], loc='upper left')\n",
    "    plt.show()\n",
    "\n",
    "    plt.plot(history.history['loss'])\n",
    "    plt.plot(history.history['val_loss'])\n",
    "\n",
    "    plt.title('model loss')\n",
    "    plt.ylabel('loss')\n",
    "    plt.xlabel('epoch')\n",
    "    plt.legend(['train','test'], loc='upper left')\n",
    "    plt.show()\n"
   ]
  },
  {
   "cell_type": "code",
   "execution_count": null,
   "metadata": {},
   "outputs": [],
   "source": []
  }
 ],
 "metadata": {
  "kernelspec": {
   "display_name": "Python 3",
   "language": "python",
   "name": "python3"
  },
  "language_info": {
   "codemirror_mode": {
    "name": "ipython",
    "version": 3
   },
   "file_extension": ".py",
   "mimetype": "text/x-python",
   "name": "python",
   "nbconvert_exporter": "python",
   "pygments_lexer": "ipython3",
   "version": "3.7.4"
  }
 },
 "nbformat": 4,
 "nbformat_minor": 2
}
